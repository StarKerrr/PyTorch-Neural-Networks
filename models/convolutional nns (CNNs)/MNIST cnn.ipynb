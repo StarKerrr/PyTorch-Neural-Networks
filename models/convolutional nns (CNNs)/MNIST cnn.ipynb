{
  "nbformat": 4,
  "nbformat_minor": 0,
  "metadata": {
    "colab": {
      "name": "Convolutional Neural Networks (CNNs).ipynb",
      "version": "0.3.2",
      "provenance": [],
      "collapsed_sections": []
    },
    "kernelspec": {
      "name": "python3",
      "display_name": "Python 3"
    }
  },
  "cells": [
    {
      "cell_type": "code",
      "metadata": {
        "id": "97NN-ZQX-T6I",
        "colab_type": "code",
        "colab": {}
      },
      "source": [
        "import torch \n",
        "import torch.nn as nn\n",
        "import torch.nn.functional as F\n",
        "import torch.optim as optim\n",
        "from torch.autograd import Variable\n",
        "from torch.utils.data import DataLoader\n",
        "import torchvision\n",
        "import torchvision.transforms as transforms\n",
        "\n",
        "import numpy as np\n",
        "import matplotlib.pyplot as plt\n",
        "import os\n",
        "import time"
      ],
      "execution_count": 0,
      "outputs": []
    },
    {
      "cell_type": "code",
      "metadata": {
        "id": "7MKiva2g-sy-",
        "colab_type": "code",
        "colab": {}
      },
      "source": [
        "# Hyperparameters\n",
        "num_epochs = 15\n",
        "num_classes = 10\n",
        "batch_size = 100\n",
        "learning_rate = 1e-3"
      ],
      "execution_count": 0,
      "outputs": []
    },
    {
      "cell_type": "code",
      "metadata": {
        "id": "JUUQm6Vx-tCn",
        "colab_type": "code",
        "colab": {}
      },
      "source": [
        "def get_data(path, num_workers):\n",
        "  # CUFAR10 dataset\n",
        "  # Before using, you should download the dataset to your local repository. Specify 'download' parameter\n",
        "  # of train_data as True.\n",
        "  train_data = torchvision.datasets.CIFAR10(root=path, train=True, transform=transforms.ToTensor())\n",
        "  test_data = torchvision.datasets.CIFAR10(root=path, train=False, transform=transforms.ToTensor())\n",
        "\n",
        "  train_loader = DataLoader(train_data, batch_size=batch_size, shuffle=True, num_workers=2)\n",
        "  test_loader = DataLoader(test_data, batch_size=batch_size, shuffle=False, num_workers=2)\n",
        "  return train_loader, test_loader\n",
        "\n",
        "# All classes of images in dataset\n",
        "classes = ['plane', 'car', 'bird', 'cat', 'deer', 'dog', 'frog', 'horse', 'ship', 'truck']"
      ],
      "execution_count": 0,
      "outputs": []
    },
    {
      "cell_type": "code",
      "metadata": {
        "id": "PFtnJYhS4cf2",
        "colab_type": "code",
        "colab": {}
      },
      "source": [
        "train_data, test_data = get_data(\"data\", 2)"
      ],
      "execution_count": 0,
      "outputs": []
    },
    {
      "cell_type": "code",
      "metadata": {
        "id": "-mRuffuD-tId",
        "colab_type": "code",
        "colab": {}
      },
      "source": [
        "# Show the number of images equals to batch_size\n",
        "def imshow(img):\n",
        "    img = img / 2 + 0.25\n",
        "    npimg = img.numpy()\n",
        "    plt.figure(figsize=(8, 3))\n",
        "    plt.imshow(np.transpose(npimg, (1, 2, 0)))"
      ],
      "execution_count": 0,
      "outputs": []
    },
    {
      "cell_type": "code",
      "metadata": {
        "id": "RJ381xz8-tK-",
        "colab_type": "code",
        "outputId": "9e2c1e71-46dd-446b-891f-eba621988ce0",
        "colab": {
          "base_uri": "https://localhost:8080/",
          "height": 163
        }
      },
      "source": [
        "# Checking out the dataset \n",
        "dataiter = iter(train_data)\n",
        "images, labels = dataiter.next()\n",
        "imshow(torchvision.utils.make_grid(images[:5]))\n",
        "print(\"  \".join('%5s' % classes[labels[j]] for j in range(5)))"
      ],
      "execution_count": 62,
      "outputs": [
        {
          "output_type": "stream",
          "text": [
            "plane  horse  truck   frog    cat\n"
          ],
          "name": "stdout"
        },
        {
          "output_type": "display_data",
          "data": {
            "image/png": "[encoded data removed]",
            "text/plain": [
              "<Figure size 576x216 with 1 Axes>"
            ]
          },
          "metadata": {
            "tags": []
          }
        }
      ]
    },
    {
      "cell_type": "code",
      "metadata": {
        "id": "5ge1gICA-tNO",
        "colab_type": "code",
        "colab": {}
      },
      "source": [
        "# Convolutional neural network (CNN), we will use two convolutional layers\n",
        "class CNN(nn.Module):\n",
        "    def __init__(self, num_classes=10):\n",
        "        super().__init__()\n",
        "        \n",
        "        # Convolutional and pooling layers\n",
        "        self.cl1 = self.create_layer_block(3, 30)\n",
        "        self.cl2 = self.create_layer_block(30, 30)\n",
        "        self.cl3 = self.create_layer_block(30, 30)\n",
        "        \n",
        "        # Dropout and fully connected layers\n",
        "        self.drop_out = nn.Dropout()\n",
        "        self.fc1 = nn.Linear(8 * 8 * 30, 300)\n",
        "        self.fc2 = nn.Linear(300, 350)\n",
        "        self.fc3 = nn.Linear(350, num_classes)\n",
        "    \n",
        "    # Creation of layer which consists of convolutional, batchnorming parts and ReLU function\n",
        "    def create_layer_block(self, in_features, out_features):\n",
        "        self.layer_block = nn.Sequential(\n",
        "            nn.Conv2d(in_features, out_features, kernel_size=5, stride=1, padding=2),\n",
        "            nn.BatchNorm2d(out_features),\n",
        "            nn.ReLU(),\n",
        "        )\n",
        "        return self.layer_block\n",
        "    \n",
        "    # Forward pass\n",
        "    def forward(self, x):\n",
        "        x = self.cl1(x)\n",
        "        x = F.max_pool2d(self.cl2(x), 2, 2)\n",
        "        x = F.relu(self.cl3(x))\n",
        "        x = F.max_pool2d(x, 2, 2)\n",
        "        x = x.view(x.size(0), -1)\n",
        "        x = self.drop_out(x)\n",
        "        x = self.fc1(x)\n",
        "        x = self.fc2(x)\n",
        "        x = self.fc3(x)\n",
        "        return x"
      ],
      "execution_count": 0,
      "outputs": []
    },
    {
      "cell_type": "code",
      "metadata": {
        "id": "cQX0XXmd-tR8",
        "colab_type": "code",
        "colab": {}
      },
      "source": [
        "model = CNN()"
      ],
      "execution_count": 0,
      "outputs": []
    },
    {
      "cell_type": "code",
      "metadata": {
        "id": "1r2t080n-tW1",
        "colab_type": "code",
        "colab": {}
      },
      "source": [
        "# Loss and optimizer\n",
        "criterion = nn.CrossEntropyLoss()\n",
        "optimizer = optim.Adam(model.parameters(), lr=learning_rate)\n",
        "losses = []\n",
        "\n",
        "# Train our model\n",
        "def train(model, epochs, learning_rate):\n",
        "    start = time.time()\n",
        "    total = len(train_data)\n",
        "    for epoch in range(epochs):\n",
        "        for i, (images, labels) in enumerate(train_data):\n",
        "            images, labels = Variable(images), Variable(labels)\n",
        "            \n",
        "            outputs = model(images) # Forward pass\n",
        "            loss = criterion(outputs, labels)\n",
        "            losses.append(loss.item())\n",
        "\n",
        "            optimizer.zero_grad() # Zero gradient value\n",
        "            loss.backward() # Backward pass\n",
        "            optimizer.step() # Update our weights\n",
        "            \n",
        "            # Visual information\n",
        "            if (i+1) % 100 == 0:\n",
        "                print (f\"Epoch [{epoch+1}/{epochs}], Step [{i+1}/{total}], Loss: {round(loss.item(), 4)}\")\n",
        "    all_time = round((time.time() - start) / 60, 2)\n",
        "    print(f\"\\nTime of training: {all_time} minutes\")"
      ],
      "execution_count": 0,
      "outputs": []
    },
    {
      "cell_type": "code",
      "metadata": {
        "id": "6SvdZoRz-tef",
        "colab_type": "code",
        "colab": {}
      },
      "source": [
        "# Test our model\n",
        "def validate_model(model, data):\n",
        "    model.eval()\n",
        "    with torch.no_grad():\n",
        "        correct = 0\n",
        "        total = 0\n",
        "        for images, labels in data:\n",
        "            outputs = model(images)\n",
        "            _, predicted = torch.max(outputs.data, 1)\n",
        "            total += labels.size(0)\n",
        "            correct += (predicted == labels).sum().item()\n",
        "        \n",
        "        if len(data) > 100:\n",
        "          print(f\"Accuracy of the model on train data: {round(correct / total * 100, 2)}%\")\n",
        "        elif len(data) == 100:\n",
        "          print(f\"Accuracy of the model on test data: {round(correct / total * 100, 2)}%\")"
      ],
      "execution_count": 0,
      "outputs": []
    },
    {
      "cell_type": "markdown",
      "metadata": {
        "id": "JdHZjqgxDjY7",
        "colab_type": "text"
      },
      "source": [
        "## Training"
      ]
    },
    {
      "cell_type": "code",
      "metadata": {
        "id": "OOtyb9lg-tbX",
        "colab_type": "code",
        "outputId": "d037d4ae-f5fd-4f91-e57f-b9c67fb47acf",
        "colab": {
          "base_uri": "https://localhost:8080/",
          "height": 1000
        }
      },
      "source": [
        "train(model, num_epochs, learning_rate)"
      ],
      "execution_count": 67,
      "outputs": [
        {
          "output_type": "stream",
          "text": [
            "Epoch [1/15], Step [100/500], Loss: 1.6017\n",
            "Epoch [1/15], Step [200/500], Loss: 1.3238\n",
            "Epoch [1/15], Step [300/500], Loss: 1.3178\n",
            "Epoch [1/15], Step [400/500], Loss: 1.2597\n",
            "Epoch [1/15], Step [500/500], Loss: 0.9774\n",
            "Epoch [2/15], Step [100/500], Loss: 1.199\n",
            "Epoch [2/15], Step [200/500], Loss: 1.0439\n",
            "Epoch [2/15], Step [300/500], Loss: 1.0636\n",
            "Epoch [2/15], Step [400/500], Loss: 0.9297\n",
            "Epoch [2/15], Step [500/500], Loss: 1.1475\n",
            "Epoch [3/15], Step [100/500], Loss: 1.0274\n",
            "Epoch [3/15], Step [200/500], Loss: 0.9118\n",
            "Epoch [3/15], Step [300/500], Loss: 0.9634\n",
            "Epoch [3/15], Step [400/500], Loss: 0.8678\n",
            "Epoch [3/15], Step [500/500], Loss: 1.162\n",
            "Epoch [4/15], Step [100/500], Loss: 0.9427\n",
            "Epoch [4/15], Step [200/500], Loss: 0.8412\n",
            "Epoch [4/15], Step [300/500], Loss: 0.7534\n",
            "Epoch [4/15], Step [400/500], Loss: 0.757\n",
            "Epoch [4/15], Step [500/500], Loss: 0.7651\n",
            "Epoch [5/15], Step [100/500], Loss: 0.7443\n",
            "Epoch [5/15], Step [200/500], Loss: 0.7826\n",
            "Epoch [5/15], Step [300/500], Loss: 0.9616\n",
            "Epoch [5/15], Step [400/500], Loss: 0.7553\n",
            "Epoch [5/15], Step [500/500], Loss: 1.0603\n",
            "Epoch [6/15], Step [100/500], Loss: 0.7837\n",
            "Epoch [6/15], Step [200/500], Loss: 0.716\n",
            "Epoch [6/15], Step [300/500], Loss: 0.7407\n",
            "Epoch [6/15], Step [400/500], Loss: 0.7106\n",
            "Epoch [6/15], Step [500/500], Loss: 0.7532\n",
            "Epoch [7/15], Step [100/500], Loss: 0.8798\n",
            "Epoch [7/15], Step [200/500], Loss: 0.604\n",
            "Epoch [7/15], Step [300/500], Loss: 0.6797\n",
            "Epoch [7/15], Step [400/500], Loss: 0.7811\n",
            "Epoch [7/15], Step [500/500], Loss: 0.8292\n",
            "Epoch [8/15], Step [100/500], Loss: 0.7269\n",
            "Epoch [8/15], Step [200/500], Loss: 0.9222\n",
            "Epoch [8/15], Step [300/500], Loss: 0.5661\n",
            "Epoch [8/15], Step [400/500], Loss: 0.8312\n",
            "Epoch [8/15], Step [500/500], Loss: 0.8835\n",
            "Epoch [9/15], Step [100/500], Loss: 0.8367\n",
            "Epoch [9/15], Step [200/500], Loss: 0.7444\n",
            "Epoch [9/15], Step [300/500], Loss: 0.8042\n",
            "Epoch [9/15], Step [400/500], Loss: 0.6654\n",
            "Epoch [9/15], Step [500/500], Loss: 0.7399\n",
            "Epoch [10/15], Step [100/500], Loss: 0.5998\n",
            "Epoch [10/15], Step [200/500], Loss: 0.5883\n",
            "Epoch [10/15], Step [300/500], Loss: 0.7589\n",
            "Epoch [10/15], Step [400/500], Loss: 0.6534\n",
            "Epoch [10/15], Step [500/500], Loss: 0.8439\n",
            "Epoch [11/15], Step [100/500], Loss: 0.7312\n",
            "Epoch [11/15], Step [200/500], Loss: 0.7019\n",
            "Epoch [11/15], Step [300/500], Loss: 0.6299\n",
            "Epoch [11/15], Step [400/500], Loss: 0.7462\n",
            "Epoch [11/15], Step [500/500], Loss: 0.9341\n",
            "Epoch [12/15], Step [100/500], Loss: 0.5836\n",
            "Epoch [12/15], Step [200/500], Loss: 0.9165\n",
            "Epoch [12/15], Step [300/500], Loss: 0.7021\n",
            "Epoch [12/15], Step [400/500], Loss: 0.6487\n",
            "Epoch [12/15], Step [500/500], Loss: 0.7857\n",
            "Epoch [13/15], Step [100/500], Loss: 0.4378\n",
            "Epoch [13/15], Step [200/500], Loss: 0.6048\n",
            "Epoch [13/15], Step [300/500], Loss: 0.503\n",
            "Epoch [13/15], Step [400/500], Loss: 0.5768\n",
            "Epoch [13/15], Step [500/500], Loss: 0.6058\n",
            "Epoch [14/15], Step [100/500], Loss: 0.6466\n",
            "Epoch [14/15], Step [200/500], Loss: 0.6648\n",
            "Epoch [14/15], Step [300/500], Loss: 0.6591\n",
            "Epoch [14/15], Step [400/500], Loss: 0.661\n",
            "Epoch [14/15], Step [500/500], Loss: 0.7743\n",
            "Epoch [15/15], Step [100/500], Loss: 0.6602\n",
            "Epoch [15/15], Step [200/500], Loss: 0.7418\n",
            "Epoch [15/15], Step [300/500], Loss: 0.7654\n",
            "Epoch [15/15], Step [400/500], Loss: 0.4863\n",
            "Epoch [15/15], Step [500/500], Loss: 0.692\n",
            "\n",
            "Time of training: 78.69 minutes\n"
          ],
          "name": "stdout"
        }
      ]
    },
    {
      "cell_type": "markdown",
      "metadata": {
        "id": "BSGyLEw-DwYQ",
        "colab_type": "text"
      },
      "source": [
        "It is always interesting to see how fast the loss is changing its value. Let's check it :)"
      ]
    },
    {
      "cell_type": "code",
      "metadata": {
        "id": "2_Y7zAhy-taH",
        "colab_type": "code",
        "outputId": "9807fbfe-825d-4e49-c0c7-478b3448e124",
        "colab": {
          "base_uri": "https://localhost:8080/",
          "height": 395
        }
      },
      "source": [
        "plt.figure(figsize=(13, 6))\n",
        "plt.plot(losses)\n",
        "plt.title(\"Losses\", fontsize=20)\n",
        "plt.show()"
      ],
      "execution_count": 68,
      "outputs": [
        {
          "output_type": "display_data",
          "data": {
            "image/png": "[encoded data removed]",
            "text/plain": [
              "<Figure size 936x432 with 1 Axes>"
            ]
          },
          "metadata": {
            "tags": []
          }
        }
      ]
    },
    {
      "cell_type": "markdown",
      "metadata": {
        "id": "6pLUmELMD2CX",
        "colab_type": "text"
      },
      "source": [
        "## Let's test it!"
      ]
    },
    {
      "cell_type": "code",
      "metadata": {
        "id": "xJmyG_AJQitE",
        "colab_type": "code",
        "outputId": "3f396c5f-1b06-4f10-a4c5-5f60f7e69897",
        "colab": {
          "base_uri": "https://localhost:8080/",
          "height": 35
        }
      },
      "source": [
        "validate_model(model, train_data)"
      ],
      "execution_count": 69,
      "outputs": [
        {
          "output_type": "stream",
          "text": [
            "Accuracy of the model on train data: 81.44%\n"
          ],
          "name": "stdout"
        }
      ]
    },
    {
      "cell_type": "code",
      "metadata": {
        "id": "XE_gYj-K-tUs",
        "colab_type": "code",
        "outputId": "f66f3c2a-fa37-4355-b54f-6e7b976dd5c3",
        "colab": {
          "base_uri": "https://localhost:8080/",
          "height": 35
        }
      },
      "source": [
        "validate_model(model, test_data)"
      ],
      "execution_count": 70,
      "outputs": [
        {
          "output_type": "stream",
          "text": [
            "Accuracy of the model on test data: 75.93%\n"
          ],
          "name": "stdout"
        }
      ]
    },
    {
      "cell_type": "markdown",
      "metadata": {
        "id": "ePC8ZyuuD6hP",
        "colab_type": "text"
      },
      "source": [
        "#### So, accuracy is actually nice, cause difference between train and test datatsets accuracy is pretty small, i.e. model is not overfited. Now, let's try to predict class by image"
      ]
    },
    {
      "cell_type": "code",
      "metadata": {
        "id": "uI1i3afW-tQn",
        "colab_type": "code",
        "outputId": "015e2b8c-2c46-4d29-9dcd-f9d070fea1ba",
        "colab": {
          "base_uri": "https://localhost:8080/",
          "height": 180
        }
      },
      "source": [
        "# dataiter = iter(test_data)\n",
        "images, labels = dataiter.next()\n",
        "imshow(torchvision.utils.make_grid(images[:5]))\n",
        "\n",
        "outputs = model(images)\n",
        "_, predicted = torch.max(outputs.data, 1)\n",
        "print(\"Actual classes:\", \" \".join('%5s' % classes[labels[j]] for j in range(5)))\n",
        "print(\"Predicted classes:\", \" \".join('%5s' % classes[predicted[j]] for j in range(5)))"
      ],
      "execution_count": 71,
      "outputs": [
        {
          "output_type": "stream",
          "text": [
            "Actual classes:  bird   car  bird  frog  frog\n",
            "Predicted classes:  bird   car  bird  frog  frog\n"
          ],
          "name": "stdout"
        },
        {
          "output_type": "display_data",
          "data": {
            "image/png": "[encoded data removed]",
            "text/plain": [
              "<Figure size 576x216 with 1 Axes>"
            ]
          },
          "metadata": {
            "tags": []
          }
        }
      ]
    },
    {
      "cell_type": "markdown",
      "metadata": {
        "id": "CNwEI08NRID4",
        "colab_type": "text"
      },
      "source": [
        "## After some tests, i can surely say that model performs excellent results.\n",
        "### The most common case is 4/5 correct answers!"
      ]
    },
    {
      "cell_type": "code",
      "metadata": {
        "id": "nFmD9MOeD7ij",
        "colab_type": "code",
        "colab": {}
      },
      "source": [
        " def save_model(path):\n",
        "    torch.save(model.state_dict(), path)\n",
        "    print(\"Model saved!\")"
      ],
      "execution_count": 0,
      "outputs": []
    }
  ]
}