{
  "nbformat": 4,
  "nbformat_minor": 0,
  "metadata": {
    "colab": {
      "name": "Convolutional Neural Networks (CNNs).ipynb",
      "version": "0.3.2",
      "provenance": []
    },
    "kernelspec": {
      "name": "python3",
      "display_name": "Python 3"
    }
  },
  "cells": [
    {
      "cell_type": "code",
      "metadata": {
        "id": "97NN-ZQX-T6I",
        "colab_type": "code",
        "colab": {}
      },
      "source": [
        "import torch \n",
        "import torch.nn as nn\n",
        "import torch.nn.functional as F\n",
        "import torch.optim as optim\n",
        "from torch.autograd import Variable\n",
        "from torch.utils.data import DataLoader\n",
        "import torchvision\n",
        "import torchvision.transforms as transforms\n",
        "\n",
        "import numpy as np\n",
        "import matplotlib.pyplot as plt\n",
        "import os\n",
        "import time"
      ],
      "execution_count": 0,
      "outputs": []
    },
    {
      "cell_type": "code",
      "metadata": {
        "id": "7MKiva2g-sy-",
        "colab_type": "code",
        "colab": {}
      },
      "source": [
        "# Hyperparameters\n",
        "num_epochs = 10\n",
        "num_classes = 10\n",
        "batch_size = 100\n",
        "learning_rate = 1e-3"
      ],
      "execution_count": 0,
      "outputs": []
    },
    {
      "cell_type": "code",
      "metadata": {
        "id": "JUUQm6Vx-tCn",
        "colab_type": "code",
        "colab": {}
      },
      "source": [
        "def get_data(path, num_workers):\n",
        "  # CUFAR10 dataset\n",
        "  # Before using, you should download the dataset to your local repository. Specify 'download' parameter\n",
        "  # of train_data as True.\n",
        "  train_data = torchvision.datasets.CIFAR10(root=path, train=True, transform=transforms.ToTensor(), download=True)\n",
        "  test_data = torchvision.datasets.CIFAR10(root=path, train=False, transform=transforms.ToTensor())\n",
        "\n",
        "  train_loader = DataLoader(train_data, batch_size=batch_size, shuffle=True, num_workers=2)\n",
        "  test_loader = DataLoader(test_data, batch_size=batch_size, shuffle=False, num_workers=2)\n",
        "  return train_loader, test_loader\n",
        "\n",
        "# All classes of images in dataset\n",
        "classes = ['plane', 'car', 'bird', 'cat', 'deer', 'dog', 'frog', 'horse', 'ship', 'truck']"
      ],
      "execution_count": 0,
      "outputs": []
    },
    {
      "cell_type": "code",
      "metadata": {
        "id": "PFtnJYhS4cf2",
        "colab_type": "code",
        "colab": {
          "base_uri": "https://localhost:8080/",
          "height": 35
        },
        "outputId": "fb8c10a1-832f-4f32-fb58-201f519630fd"
      },
      "source": [
        "train_data, test_data = get_data(\"data\", 2)"
      ],
      "execution_count": 4,
      "outputs": [
        {
          "output_type": "stream",
          "text": [
            "Files already downloaded and verified\n"
          ],
          "name": "stdout"
        }
      ]
    },
    {
      "cell_type": "code",
      "metadata": {
        "id": "-mRuffuD-tId",
        "colab_type": "code",
        "colab": {}
      },
      "source": [
        "# Show the number of images equals to batch_size\n",
        "def imshow(img):\n",
        "    img = img / 2 + 0.2\n",
        "    npimg = img.numpy()\n",
        "    plt.figure(figsize=(8, 3))\n",
        "    plt.imshow(np.transpose(npimg, (1, 2, 0)))"
      ],
      "execution_count": 0,
      "outputs": []
    },
    {
      "cell_type": "code",
      "metadata": {
        "id": "RJ381xz8-tK-",
        "colab_type": "code",
        "outputId": "6abb914b-d3ac-4164-9ffa-3ddde757314c",
        "colab": {
          "base_uri": "https://localhost:8080/",
          "height": 163
        }
      },
      "source": [
        "# Checking out the dataset \n",
        "dataiter = iter(train_data)\n",
        "images, labels = dataiter.next()\n",
        "imshow(torchvision.utils.make_grid(images[:5]))\n",
        "print(\"  \".join('%5s' % classes[labels[j]] for j in range(5)))"
      ],
      "execution_count": 6,
      "outputs": [
        {
          "output_type": "stream",
          "text": [
            " deer    car  truck   deer    dog\n"
          ],
          "name": "stdout"
        },
        {
          "output_type": "display_data",
          "data": {
            "image/png": "[encoded data removed]",
            "text/plain": [
              "<Figure size 576x216 with 1 Axes>"
            ]
          },
          "metadata": {
            "tags": []
          }
        }
      ]
    },
    {
      "cell_type": "code",
      "metadata": {
        "id": "5ge1gICA-tNO",
        "colab_type": "code",
        "colab": {}
      },
      "source": [
        "# Convolutional neural network (CNN), we will use two convolutional layers\n",
        "class CNN(nn.Module):\n",
        "    def __init__(self, num_classes=10):\n",
        "        super().__init__()\n",
        "        \n",
        "        # Convolutional and pooling layers\n",
        "        self.cl1 = self.create_layer_block(3, 32)\n",
        "        self.cl2 = self.create_layer_block(32, 32)\n",
        "        self.cl3 = self.create_layer_block(32, 32)\n",
        "        \n",
        "        # Dropout and fully connected layers\n",
        "        self.drop_out = nn.Dropout()\n",
        "        self.fc1 = nn.Linear(4 * 4 * 32, 200)\n",
        "        self.fc2 = nn.Linear(200, 200)\n",
        "        self.fc3 = nn.Linear(200, num_classes)\n",
        "        self.ls = nn.LogSoftmax(dim=1)\n",
        "    \n",
        "    # Creation of layer which consists of convolutional, batchnorming parts and ReLU function\n",
        "    def create_layer_block(self, in_features, out_features):\n",
        "        self.layer_block = nn.Sequential(\n",
        "            nn.Conv2d(in_features, out_features, kernel_size=5, stride=1, padding=2),\n",
        "            nn.BatchNorm2d(out_features),\n",
        "            nn.ReLU(),\n",
        "        )\n",
        "        return self.layer_block\n",
        "    \n",
        "    # Forward pass\n",
        "    def forward(self, x):\n",
        "        x = F.max_pool2d(self.cl1(x), 2, 2)\n",
        "        x = F.max_pool2d(self.cl2(x), 2, 2)\n",
        "        x = F.max_pool2d(self.cl3(x), 2, 2)\n",
        "        x = x.view(x.size(0), -1)\n",
        "        x = self.drop_out(x)\n",
        "        x = self.fc1(x)\n",
        "        x = self.fc2(x)\n",
        "        x = self.fc3(x)\n",
        "        result = self.ls(x)\n",
        "        return result"
      ],
      "execution_count": 0,
      "outputs": []
    },
    {
      "cell_type": "code",
      "metadata": {
        "id": "cQX0XXmd-tR8",
        "colab_type": "code",
        "colab": {}
      },
      "source": [
        "model = CNN()"
      ],
      "execution_count": 0,
      "outputs": []
    },
    {
      "cell_type": "code",
      "metadata": {
        "id": "1r2t080n-tW1",
        "colab_type": "code",
        "colab": {}
      },
      "source": [
        "# Loss and optimizer\n",
        "criterion = nn.NLLLoss()\n",
        "optimizer = optim.Adam(model.parameters(), lr=learning_rate)\n",
        "losses = []\n",
        "\n",
        "# Train our model\n",
        "def train(model, epochs, learning_rate):\n",
        "    start = time.time()\n",
        "    total = len(train_data)\n",
        "    for epoch in range(epochs):\n",
        "        for i, (images, labels) in enumerate(train_data):\n",
        "            images, labels = Variable(images), Variable(labels)\n",
        "            \n",
        "            outputs = model(images) # Forward pass\n",
        "            loss = criterion(outputs, labels)\n",
        "            losses.append(loss.item())\n",
        "\n",
        "            optimizer.zero_grad() # Zero gradient value\n",
        "            loss.backward() # Backward pass\n",
        "            optimizer.step() # Update our weights\n",
        "            \n",
        "            # Visual information\n",
        "            if (i+1) % 100 == 0:\n",
        "                print (f\"Epoch [{epoch+1}/{epochs}], Step [{i+1}/{total}], Loss: {round(loss.item(), 4)}\")\n",
        "    all_time = round((time.time() - start) / 60, 2)\n",
        "    print(f\"\\nTime of training: {all_time} minutes\")"
      ],
      "execution_count": 0,
      "outputs": []
    },
    {
      "cell_type": "code",
      "metadata": {
        "id": "6SvdZoRz-tef",
        "colab_type": "code",
        "colab": {}
      },
      "source": [
        "# Test our model\n",
        "def validate_model(model, data):\n",
        "    model.eval()\n",
        "    with torch.no_grad():\n",
        "        correct = 0\n",
        "        total = 0\n",
        "        for images, labels in data:\n",
        "            outputs = model(images)\n",
        "            _, predicted = torch.max(outputs.data, 1)\n",
        "            total += labels.size(0)\n",
        "            correct += (predicted == labels).sum().item()\n",
        "        \n",
        "        if len(data) > 100:\n",
        "          print(f\"Accuracy of the model on train data: {round(correct / total * 100, 2)}%\")\n",
        "        elif len(data) == 100:\n",
        "          print(f\"Accuracy of the model on test data: {round(correct / total * 100, 2)}%\")"
      ],
      "execution_count": 0,
      "outputs": []
    },
    {
      "cell_type": "markdown",
      "metadata": {
        "id": "JdHZjqgxDjY7",
        "colab_type": "text"
      },
      "source": [
        "## Training"
      ]
    },
    {
      "cell_type": "code",
      "metadata": {
        "id": "OOtyb9lg-tbX",
        "colab_type": "code",
        "colab": {
          "base_uri": "https://localhost:8080/",
          "height": 919
        },
        "outputId": "e40135fb-c947-4330-9b90-fe7b7a791314"
      },
      "source": [
        "train(model, num_epochs, learning_rate)"
      ],
      "execution_count": 11,
      "outputs": [
        {
          "output_type": "stream",
          "text": [
            "Epoch [1/10], Step [100/500], Loss: 1.5163\n",
            "Epoch [1/10], Step [200/500], Loss: 1.5275\n",
            "Epoch [1/10], Step [300/500], Loss: 1.3794\n",
            "Epoch [1/10], Step [400/500], Loss: 1.0535\n",
            "Epoch [1/10], Step [500/500], Loss: 1.0264\n",
            "Epoch [2/10], Step [100/500], Loss: 1.3959\n",
            "Epoch [2/10], Step [200/500], Loss: 1.1557\n",
            "Epoch [2/10], Step [300/500], Loss: 1.0515\n",
            "Epoch [2/10], Step [400/500], Loss: 1.3051\n",
            "Epoch [2/10], Step [500/500], Loss: 0.8752\n",
            "Epoch [3/10], Step [100/500], Loss: 1.2444\n",
            "Epoch [3/10], Step [200/500], Loss: 1.1222\n",
            "Epoch [3/10], Step [300/500], Loss: 1.076\n",
            "Epoch [3/10], Step [400/500], Loss: 0.9188\n",
            "Epoch [3/10], Step [500/500], Loss: 0.7913\n",
            "Epoch [4/10], Step [100/500], Loss: 0.7802\n",
            "Epoch [4/10], Step [200/500], Loss: 0.9677\n",
            "Epoch [4/10], Step [300/500], Loss: 1.014\n",
            "Epoch [4/10], Step [400/500], Loss: 0.9602\n",
            "Epoch [4/10], Step [500/500], Loss: 0.8812\n",
            "Epoch [5/10], Step [100/500], Loss: 0.9115\n",
            "Epoch [5/10], Step [200/500], Loss: 0.8587\n",
            "Epoch [5/10], Step [300/500], Loss: 0.8191\n",
            "Epoch [5/10], Step [400/500], Loss: 0.9049\n",
            "Epoch [5/10], Step [500/500], Loss: 1.0124\n",
            "Epoch [6/10], Step [100/500], Loss: 0.9359\n",
            "Epoch [6/10], Step [200/500], Loss: 0.8302\n",
            "Epoch [6/10], Step [300/500], Loss: 1.108\n",
            "Epoch [6/10], Step [400/500], Loss: 0.8732\n",
            "Epoch [6/10], Step [500/500], Loss: 0.9486\n",
            "Epoch [7/10], Step [100/500], Loss: 0.8537\n",
            "Epoch [7/10], Step [200/500], Loss: 0.6864\n",
            "Epoch [7/10], Step [300/500], Loss: 0.9376\n",
            "Epoch [7/10], Step [400/500], Loss: 0.9272\n",
            "Epoch [7/10], Step [500/500], Loss: 0.9689\n",
            "Epoch [8/10], Step [100/500], Loss: 0.7568\n",
            "Epoch [8/10], Step [200/500], Loss: 0.8979\n",
            "Epoch [8/10], Step [300/500], Loss: 1.1377\n",
            "Epoch [8/10], Step [400/500], Loss: 0.9091\n",
            "Epoch [8/10], Step [500/500], Loss: 0.7614\n",
            "Epoch [9/10], Step [100/500], Loss: 0.7399\n",
            "Epoch [9/10], Step [200/500], Loss: 0.8248\n",
            "Epoch [9/10], Step [300/500], Loss: 0.5136\n",
            "Epoch [9/10], Step [400/500], Loss: 0.7502\n",
            "Epoch [9/10], Step [500/500], Loss: 0.7336\n",
            "Epoch [10/10], Step [100/500], Loss: 0.6667\n",
            "Epoch [10/10], Step [200/500], Loss: 0.7374\n",
            "Epoch [10/10], Step [300/500], Loss: 0.5798\n",
            "Epoch [10/10], Step [400/500], Loss: 0.6388\n",
            "Epoch [10/10], Step [500/500], Loss: 0.8013\n",
            "\n",
            "Time of training: 24.39 minutes\n"
          ],
          "name": "stdout"
        }
      ]
    },
    {
      "cell_type": "markdown",
      "metadata": {
        "id": "BSGyLEw-DwYQ",
        "colab_type": "text"
      },
      "source": [
        "It is always interesting to see how fast the loss is changing its value. Let's check it :)"
      ]
    },
    {
      "cell_type": "code",
      "metadata": {
        "id": "2_Y7zAhy-taH",
        "colab_type": "code",
        "colab": {
          "base_uri": "https://localhost:8080/",
          "height": 395
        },
        "outputId": "de5f7f77-cf5a-4a4f-bb77-07dacf7a2877"
      },
      "source": [
        "plt.figure(figsize=(13, 6))\n",
        "plt.plot(losses)\n",
        "plt.title(\"Losses\", fontsize=20)\n",
        "plt.show()"
      ],
      "execution_count": 12,
      "outputs": [
        {
          "output_type": "display_data",
          "data": {
            "image/png": "[encoded data removed]",
            "text/plain": [
              "<Figure size 936x432 with 1 Axes>"
            ]
          },
          "metadata": {
            "tags": []
          }
        }
      ]
    },
    {
      "cell_type": "markdown",
      "metadata": {
        "id": "6pLUmELMD2CX",
        "colab_type": "text"
      },
      "source": [
        "## Let's test it!"
      ]
    },
    {
      "cell_type": "code",
      "metadata": {
        "id": "xJmyG_AJQitE",
        "colab_type": "code",
        "colab": {
          "base_uri": "https://localhost:8080/",
          "height": 35
        },
        "outputId": "4a8757cd-4768-4a2e-bef4-f55a30eac299"
      },
      "source": [
        "validate_model(model, train_data)"
      ],
      "execution_count": 13,
      "outputs": [
        {
          "output_type": "stream",
          "text": [
            "Accuracy of the model on train data: 72.22%\n"
          ],
          "name": "stdout"
        }
      ]
    },
    {
      "cell_type": "code",
      "metadata": {
        "id": "XE_gYj-K-tUs",
        "colab_type": "code",
        "colab": {
          "base_uri": "https://localhost:8080/",
          "height": 35
        },
        "outputId": "44521884-8c3f-4c86-aee2-8faef0357844"
      },
      "source": [
        "validate_model(model, test_data)"
      ],
      "execution_count": 14,
      "outputs": [
        {
          "output_type": "stream",
          "text": [
            "Accuracy of the model on test data: 68.04%\n"
          ],
          "name": "stdout"
        }
      ]
    },
    {
      "cell_type": "markdown",
      "metadata": {
        "id": "ePC8ZyuuD6hP",
        "colab_type": "text"
      },
      "source": [
        "#### So, accuracy is actually nice, cause difference between train and test datatsets accuracy is pretty small, i.e. model is not overfited. Now, let's try to predict class by image"
      ]
    },
    {
      "cell_type": "code",
      "metadata": {
        "id": "uI1i3afW-tQn",
        "colab_type": "code",
        "colab": {
          "base_uri": "https://localhost:8080/",
          "height": 180
        },
        "outputId": "b376e0f0-0ab4-4fff-f48c-20003ca19051"
      },
      "source": [
        "dataiter = iter(test_data)\n",
        "images, labels = dataiter.next()\n",
        "imshow(torchvision.utils.make_grid(images[:5]))\n",
        "\n",
        "outputs = model(images)\n",
        "_, predicted = torch.max(outputs.data, 1)\n",
        "print(\"Actual classes:\", \" \".join('%5s' % classes[labels[j]] for j in range(5)))\n",
        "print(\"Predicted classes:\", \" \".join('%5s' % classes[predicted[j]] for j in range(5)))"
      ],
      "execution_count": 15,
      "outputs": [
        {
          "output_type": "stream",
          "text": [
            "Actual classes:   cat  ship  ship plane  frog\n",
            "Predicted classes:   cat  ship  ship  ship  frog\n"
          ],
          "name": "stdout"
        },
        {
          "output_type": "display_data",
          "data": {
            "image/png": "[encoded data removed]",
            "text/plain": [
              "<Figure size 576x216 with 1 Axes>"
            ]
          },
          "metadata": {
            "tags": []
          }
        }
      ]
    },
    {
      "cell_type": "markdown",
      "metadata": {
        "id": "CNwEI08NRID4",
        "colab_type": "text"
      },
      "source": [
        "## After some tests, i can surely say that model performs excellent results.\n",
        "### The most common case is 4/5 correct answers!"
      ]
    },
    {
      "cell_type": "code",
      "metadata": {
        "id": "nFmD9MOeD7ij",
        "colab_type": "code",
        "colab": {}
      },
      "source": [
        " def save_model(path):\n",
        "    torch.save(model.state_dict(), path)\n",
        "    print(\"Model saved!\")"
      ],
      "execution_count": 0,
      "outputs": []
    }
  ]
}