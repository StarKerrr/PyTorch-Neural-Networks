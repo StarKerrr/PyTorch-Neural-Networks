{
  "nbformat": 4,
  "nbformat_minor": 0,
  "metadata": {
    "colab": {
      "name": "Convolutional Neural Networks (CNNs).ipynb",
      "version": "0.3.2",
      "provenance": [],
      "collapsed_sections": []
    },
    "kernelspec": {
      "name": "python3",
      "display_name": "Python 3"
    }
  },
  "cells": [
    {
      "cell_type": "code",
      "metadata": {
        "id": "97NN-ZQX-T6I",
        "colab_type": "code",
        "colab": {}
      },
      "source": [
        "import torch \n",
        "import torch.nn as nn\n",
        "import torch.nn.functional as F\n",
        "import torch.optim as optim\n",
        "from torch.autograd import Variable\n",
        "from torch.utils.data import DataLoader\n",
        "import torchvision\n",
        "import torchvision.transforms as transforms\n",
        "\n",
        "import numpy as np\n",
        "import matplotlib.pyplot as plt\n",
        "import os\n",
        "import time"
      ],
      "execution_count": 0,
      "outputs": []
    },
    {
      "cell_type": "code",
      "metadata": {
        "id": "7MKiva2g-sy-",
        "colab_type": "code",
        "colab": {}
      },
      "source": [
        "# Hyperparameters\n",
        "num_epochs = 30\n",
        "num_classes = 10\n",
        "batch_size = 100\n",
        "learning_rate = 1e-3"
      ],
      "execution_count": 0,
      "outputs": []
    },
    {
      "cell_type": "code",
      "metadata": {
        "id": "JUUQm6Vx-tCn",
        "colab_type": "code",
        "colab": {}
      },
      "source": [
        "def get_data(path, num_workers):\n",
        "  # CUFAR10 dataset\n",
        "  # Before using, you should download the dataset to your local repository. Specify 'download' parameter\n",
        "  # of train_data as True.\n",
        "  train_data = torchvision.datasets.CIFAR10(root=path, train=True, transform=transforms.ToTensor(), download=True)\n",
        "  test_data = torchvision.datasets.CIFAR10(root=path, train=False, transform=transforms.ToTensor())\n",
        "\n",
        "  train_loader = DataLoader(train_data, batch_size=batch_size, shuffle=True, num_workers=2)\n",
        "  test_loader = DataLoader(test_data, batch_size=batch_size, shuffle=False, num_workers=2)\n",
        "  return train_loader, test_loader\n",
        "\n",
        "# All classes of images in dataset\n",
        "classes = ['plane', 'car', 'bird', 'cat', 'deer', 'dog', 'frog', 'horse', 'ship', 'truck']"
      ],
      "execution_count": 0,
      "outputs": []
    },
    {
      "cell_type": "code",
      "metadata": {
        "id": "PFtnJYhS4cf2",
        "colab_type": "code",
        "colab": {
          "base_uri": "https://localhost:8080/",
          "height": 35
        },
        "outputId": "f0932db4-00c5-4110-8951-4cfaf722299e"
      },
      "source": [
        "train_data, test_data = get_data(\"data\", 2)"
      ],
      "execution_count": 4,
      "outputs": [
        {
          "output_type": "stream",
          "text": [
            "Files already downloaded and verified\n"
          ],
          "name": "stdout"
        }
      ]
    },
    {
      "cell_type": "code",
      "metadata": {
        "id": "-mRuffuD-tId",
        "colab_type": "code",
        "colab": {}
      },
      "source": [
        "# Show the number of images equals to batch_size\n",
        "def imshow(img):\n",
        "    img = img / 2 + 0.3\n",
        "    npimg = img.numpy()\n",
        "    plt.figure(figsize=(8, 3))\n",
        "    plt.imshow(np.transpose(npimg, (1, 2, 0)))"
      ],
      "execution_count": 0,
      "outputs": []
    },
    {
      "cell_type": "code",
      "metadata": {
        "id": "RJ381xz8-tK-",
        "colab_type": "code",
        "outputId": "75f3e071-8133-43c9-8c1b-0d01d961528a",
        "colab": {
          "base_uri": "https://localhost:8080/",
          "height": 163
        }
      },
      "source": [
        "# Checking out the dataset \n",
        "dataiter = iter(train_data)\n",
        "images, labels = dataiter.next()\n",
        "imshow(torchvision.utils.make_grid(images[:5]))\n",
        "print(\"  \".join('%5s' % classes[labels[j]] for j in range(5)))"
      ],
      "execution_count": 19,
      "outputs": [
        {
          "output_type": "stream",
          "text": [
            "  cat  horse  truck   ship    dog\n"
          ],
          "name": "stdout"
        },
        {
          "output_type": "display_data",
          "data": {
            "image/png": "[encoded data removed]",
            "text/plain": [
              "<Figure size 576x216 with 1 Axes>"
            ]
          },
          "metadata": {
            "tags": []
          }
        }
      ]
    },
    {
      "cell_type": "code",
      "metadata": {
        "id": "5ge1gICA-tNO",
        "colab_type": "code",
        "colab": {}
      },
      "source": [
        "# Convolutional neural network (CNN), we will use two convolutional layers\n",
        "class CNN(nn.Module):\n",
        "    def __init__(self, num_classes=10):\n",
        "        super().__init__()\n",
        "        \n",
        "        # Convolutional and pooling layers\n",
        "        self.cl1 = self.create_conv_layer(3, 30)\n",
        "        self.cl2 = self.create_conv_layer(30, 30)\n",
        "        self.cl3 = self.create_conv_layer(30, 30)\n",
        "        \n",
        "        # Dropout and fully connected layers\n",
        "        self.drop_out = nn.Dropout()\n",
        "        self.fc1 = self.create_fc_layer(4 * 4 * 30, 300)\n",
        "        self.fc2 = self.create_fc_layer(300, 350)\n",
        "        self.fc3 = nn.Linear(350, num_classes)\n",
        "    \n",
        "    # Creation of convolutional block: convolutional layer, ReLU activation function, 2d BatchNorming and MaxPooling\n",
        "    def create_conv_layer(self, in_features, out_features):\n",
        "        self.layer = nn.Sequential(\n",
        "            nn.Conv2d(in_features, out_features, kernel_size=5, stride=1, padding=2),\n",
        "            nn.ReLU(),\n",
        "            nn.BatchNorm2d(out_features),\n",
        "            nn.MaxPool2d(2, 2),\n",
        "        )\n",
        "        return self.layer\n",
        "    \n",
        "    # Creation of fully connected layer: Linear layer, Tanh activation function and 1d BatchNorming\n",
        "    def create_fc_layer(self, in_features, out_features):\n",
        "        self.layer = nn.Sequential(\n",
        "            nn.Linear(in_features, out_features),\n",
        "            nn.ReLU(),\n",
        "            nn.BatchNorm1d(out_features),\n",
        "        )\n",
        "        return self.layer\n",
        "    \n",
        "    # Forward pass\n",
        "    def forward(self, x):\n",
        "        x = self.cl1(x)\n",
        "        x = self.cl2(x)\n",
        "        x = self.cl3(x)\n",
        "        x = x.view(x.size(0), -1)\n",
        "        x = self.drop_out(x)\n",
        "        x = self.fc1(x)\n",
        "        x = self.fc2(x)\n",
        "        x = self.fc3(x)\n",
        "        return x"
      ],
      "execution_count": 0,
      "outputs": []
    },
    {
      "cell_type": "code",
      "metadata": {
        "id": "cQX0XXmd-tR8",
        "colab_type": "code",
        "colab": {}
      },
      "source": [
        "model = CNN()"
      ],
      "execution_count": 0,
      "outputs": []
    },
    {
      "cell_type": "code",
      "metadata": {
        "id": "1r2t080n-tW1",
        "colab_type": "code",
        "colab": {}
      },
      "source": [
        "# Loss and optimizer\n",
        "criterion = nn.CrossEntropyLoss()\n",
        "optimizer = optim.Adam(model.parameters(), lr=learning_rate)\n",
        "losses = []\n",
        "\n",
        "# Train our model\n",
        "def train(model, epochs, learning_rate):\n",
        "    start = time.time()\n",
        "    total = len(train_data)\n",
        "    for epoch in range(epochs):\n",
        "        for i, (images, labels) in enumerate(train_data):\n",
        "            images, labels = Variable(images), Variable(labels)\n",
        "            \n",
        "            outputs = model(images) # Forward pass\n",
        "            loss = criterion(outputs, labels)\n",
        "            losses.append(loss.item())\n",
        "\n",
        "            optimizer.zero_grad() # Zero gradient value\n",
        "            loss.backward() # Backward pass\n",
        "            optimizer.step() # Update our weights\n",
        "            \n",
        "            # Visual information\n",
        "            if (i+1) % 100 == 0:\n",
        "                print (f\"Epoch [{epoch+1}/{epochs}], Step [{i+1}/{total}], Loss: {round(loss.item(), 4)}\")\n",
        "    all_time = round((time.time() - start) / 60, 2)\n",
        "    print(f\"\\nTime of training: {all_time} minutes\")"
      ],
      "execution_count": 0,
      "outputs": []
    },
    {
      "cell_type": "code",
      "metadata": {
        "id": "6SvdZoRz-tef",
        "colab_type": "code",
        "colab": {}
      },
      "source": [
        "# Test our model\n",
        "def validate_model(model, data):\n",
        "    model.eval()\n",
        "    with torch.no_grad():\n",
        "        correct = 0\n",
        "        total = 0\n",
        "        for images, labels in data:\n",
        "            outputs = model(images)\n",
        "            _, predicted = torch.max(outputs.data, 1)\n",
        "            total += labels.size(0)\n",
        "            correct += (predicted == labels).sum().item()\n",
        "        \n",
        "        if len(data) > 100:\n",
        "          print(f\"Accuracy of the model on train data: {round(correct / total * 100, 2)}%\")\n",
        "        elif len(data) == 100:\n",
        "          print(f\"Accuracy of the model on test data: {round(correct / total * 100, 2)}%\")"
      ],
      "execution_count": 0,
      "outputs": []
    },
    {
      "cell_type": "markdown",
      "metadata": {
        "id": "JdHZjqgxDjY7",
        "colab_type": "text"
      },
      "source": [
        "## Training"
      ]
    },
    {
      "cell_type": "code",
      "metadata": {
        "id": "OOtyb9lg-tbX",
        "colab_type": "code",
        "outputId": "7034c0b3-84fd-484d-d3a2-4e19d1df0fa9",
        "colab": {
          "base_uri": "https://localhost:8080/",
          "height": 1000
        }
      },
      "source": [
        "train(model, num_epochs, learning_rate)"
      ],
      "execution_count": 11,
      "outputs": [
        {
          "output_type": "stream",
          "text": [
            "Epoch [1/30], Step [100/500], Loss: 1.6275\n",
            "Epoch [1/30], Step [200/500], Loss: 1.3661\n",
            "Epoch [1/30], Step [300/500], Loss: 1.2561\n",
            "Epoch [1/30], Step [400/500], Loss: 1.2847\n",
            "Epoch [1/30], Step [500/500], Loss: 1.3563\n",
            "Epoch [2/30], Step [100/500], Loss: 0.9952\n",
            "Epoch [2/30], Step [200/500], Loss: 1.1471\n",
            "Epoch [2/30], Step [300/500], Loss: 1.0452\n",
            "Epoch [2/30], Step [400/500], Loss: 0.9985\n",
            "Epoch [2/30], Step [500/500], Loss: 1.0897\n",
            "Epoch [3/30], Step [100/500], Loss: 1.0662\n",
            "Epoch [3/30], Step [200/500], Loss: 0.9576\n",
            "Epoch [3/30], Step [300/500], Loss: 0.9294\n",
            "Epoch [3/30], Step [400/500], Loss: 1.1192\n",
            "Epoch [3/30], Step [500/500], Loss: 1.0863\n",
            "Epoch [4/30], Step [100/500], Loss: 0.8388\n",
            "Epoch [4/30], Step [200/500], Loss: 0.9298\n",
            "Epoch [4/30], Step [300/500], Loss: 0.8975\n",
            "Epoch [4/30], Step [400/500], Loss: 0.9907\n",
            "Epoch [4/30], Step [500/500], Loss: 0.9268\n",
            "Epoch [5/30], Step [100/500], Loss: 0.7009\n",
            "Epoch [5/30], Step [200/500], Loss: 0.852\n",
            "Epoch [5/30], Step [300/500], Loss: 0.7982\n",
            "Epoch [5/30], Step [400/500], Loss: 0.6335\n",
            "Epoch [5/30], Step [500/500], Loss: 0.8834\n",
            "Epoch [6/30], Step [100/500], Loss: 0.6734\n",
            "Epoch [6/30], Step [200/500], Loss: 0.5683\n",
            "Epoch [6/30], Step [300/500], Loss: 0.6979\n",
            "Epoch [6/30], Step [400/500], Loss: 0.8671\n",
            "Epoch [6/30], Step [500/500], Loss: 0.7988\n",
            "Epoch [7/30], Step [100/500], Loss: 0.5971\n",
            "Epoch [7/30], Step [200/500], Loss: 0.9097\n",
            "Epoch [7/30], Step [300/500], Loss: 0.8612\n",
            "Epoch [7/30], Step [400/500], Loss: 0.913\n",
            "Epoch [7/30], Step [500/500], Loss: 0.7692\n",
            "Epoch [8/30], Step [100/500], Loss: 0.6672\n",
            "Epoch [8/30], Step [200/500], Loss: 0.5907\n",
            "Epoch [8/30], Step [300/500], Loss: 0.9885\n",
            "Epoch [8/30], Step [400/500], Loss: 0.6405\n",
            "Epoch [8/30], Step [500/500], Loss: 0.7837\n",
            "Epoch [9/30], Step [100/500], Loss: 0.659\n",
            "Epoch [9/30], Step [200/500], Loss: 0.783\n",
            "Epoch [9/30], Step [300/500], Loss: 0.5678\n",
            "Epoch [9/30], Step [400/500], Loss: 0.6903\n",
            "Epoch [9/30], Step [500/500], Loss: 0.8083\n",
            "Epoch [10/30], Step [100/500], Loss: 0.761\n",
            "Epoch [10/30], Step [200/500], Loss: 0.662\n",
            "Epoch [10/30], Step [300/500], Loss: 0.6688\n",
            "Epoch [10/30], Step [400/500], Loss: 0.5982\n",
            "Epoch [10/30], Step [500/500], Loss: 0.6759\n",
            "Epoch [11/30], Step [100/500], Loss: 0.5183\n",
            "Epoch [11/30], Step [200/500], Loss: 0.5521\n",
            "Epoch [11/30], Step [300/500], Loss: 0.6426\n",
            "Epoch [11/30], Step [400/500], Loss: 0.5977\n",
            "Epoch [11/30], Step [500/500], Loss: 0.5897\n",
            "Epoch [12/30], Step [100/500], Loss: 0.5462\n",
            "Epoch [12/30], Step [200/500], Loss: 0.5498\n",
            "Epoch [12/30], Step [300/500], Loss: 0.6211\n",
            "Epoch [12/30], Step [400/500], Loss: 0.7586\n",
            "Epoch [12/30], Step [500/500], Loss: 0.4966\n",
            "Epoch [13/30], Step [100/500], Loss: 0.3336\n",
            "Epoch [13/30], Step [200/500], Loss: 0.4651\n",
            "Epoch [13/30], Step [300/500], Loss: 0.7257\n",
            "Epoch [13/30], Step [400/500], Loss: 0.5816\n",
            "Epoch [13/30], Step [500/500], Loss: 0.6729\n",
            "Epoch [14/30], Step [100/500], Loss: 0.6397\n",
            "Epoch [14/30], Step [200/500], Loss: 0.5822\n",
            "Epoch [14/30], Step [300/500], Loss: 0.6811\n",
            "Epoch [14/30], Step [400/500], Loss: 0.5762\n",
            "Epoch [14/30], Step [500/500], Loss: 0.4747\n",
            "Epoch [15/30], Step [100/500], Loss: 0.4968\n",
            "Epoch [15/30], Step [200/500], Loss: 0.7121\n",
            "Epoch [15/30], Step [300/500], Loss: 0.4688\n",
            "Epoch [15/30], Step [400/500], Loss: 0.6315\n",
            "Epoch [15/30], Step [500/500], Loss: 0.5329\n",
            "Epoch [16/30], Step [100/500], Loss: 0.6083\n",
            "Epoch [16/30], Step [200/500], Loss: 0.6897\n",
            "Epoch [16/30], Step [300/500], Loss: 0.4604\n",
            "Epoch [16/30], Step [400/500], Loss: 0.6952\n",
            "Epoch [16/30], Step [500/500], Loss: 0.4575\n",
            "Epoch [17/30], Step [100/500], Loss: 0.4494\n",
            "Epoch [17/30], Step [200/500], Loss: 0.623\n",
            "Epoch [17/30], Step [300/500], Loss: 0.5731\n",
            "Epoch [17/30], Step [400/500], Loss: 0.5754\n",
            "Epoch [17/30], Step [500/500], Loss: 0.6411\n",
            "Epoch [18/30], Step [100/500], Loss: 0.6272\n",
            "Epoch [18/30], Step [200/500], Loss: 0.7057\n",
            "Epoch [18/30], Step [300/500], Loss: 0.5311\n",
            "Epoch [18/30], Step [400/500], Loss: 0.429\n",
            "Epoch [18/30], Step [500/500], Loss: 0.3199\n",
            "Epoch [19/30], Step [100/500], Loss: 0.6475\n",
            "Epoch [19/30], Step [200/500], Loss: 0.5158\n",
            "Epoch [19/30], Step [300/500], Loss: 0.5357\n",
            "Epoch [19/30], Step [400/500], Loss: 0.6096\n",
            "Epoch [19/30], Step [500/500], Loss: 0.4298\n",
            "Epoch [20/30], Step [100/500], Loss: 0.5802\n",
            "Epoch [20/30], Step [200/500], Loss: 0.5379\n",
            "Epoch [20/30], Step [300/500], Loss: 0.5716\n",
            "Epoch [20/30], Step [400/500], Loss: 0.447\n",
            "Epoch [20/30], Step [500/500], Loss: 0.5356\n",
            "Epoch [21/30], Step [100/500], Loss: 0.4613\n",
            "Epoch [21/30], Step [200/500], Loss: 0.4155\n",
            "Epoch [21/30], Step [300/500], Loss: 0.7386\n",
            "Epoch [21/30], Step [400/500], Loss: 0.3945\n",
            "Epoch [21/30], Step [500/500], Loss: 0.3917\n",
            "Epoch [22/30], Step [100/500], Loss: 0.3927\n",
            "Epoch [22/30], Step [200/500], Loss: 0.3995\n",
            "Epoch [22/30], Step [300/500], Loss: 0.4088\n",
            "Epoch [22/30], Step [400/500], Loss: 0.4303\n",
            "Epoch [22/30], Step [500/500], Loss: 0.3461\n",
            "Epoch [23/30], Step [100/500], Loss: 0.581\n",
            "Epoch [23/30], Step [200/500], Loss: 0.5008\n",
            "Epoch [23/30], Step [300/500], Loss: 0.4968\n",
            "Epoch [23/30], Step [400/500], Loss: 0.4578\n",
            "Epoch [23/30], Step [500/500], Loss: 0.576\n",
            "Epoch [24/30], Step [100/500], Loss: 0.5396\n",
            "Epoch [24/30], Step [200/500], Loss: 0.4389\n",
            "Epoch [24/30], Step [300/500], Loss: 0.5425\n",
            "Epoch [24/30], Step [400/500], Loss: 0.4535\n",
            "Epoch [24/30], Step [500/500], Loss: 0.3636\n",
            "Epoch [25/30], Step [100/500], Loss: 0.4671\n",
            "Epoch [25/30], Step [200/500], Loss: 0.5018\n",
            "Epoch [25/30], Step [300/500], Loss: 0.3686\n",
            "Epoch [25/30], Step [400/500], Loss: 0.3867\n",
            "Epoch [25/30], Step [500/500], Loss: 0.4964\n",
            "Epoch [26/30], Step [100/500], Loss: 0.5154\n",
            "Epoch [26/30], Step [200/500], Loss: 0.5108\n",
            "Epoch [26/30], Step [300/500], Loss: 0.4069\n",
            "Epoch [26/30], Step [400/500], Loss: 0.5549\n",
            "Epoch [26/30], Step [500/500], Loss: 0.4944\n",
            "Epoch [27/30], Step [100/500], Loss: 0.4084\n",
            "Epoch [27/30], Step [200/500], Loss: 0.4199\n",
            "Epoch [27/30], Step [300/500], Loss: 0.2356\n",
            "Epoch [27/30], Step [400/500], Loss: 0.4781\n",
            "Epoch [27/30], Step [500/500], Loss: 0.4774\n",
            "Epoch [28/30], Step [100/500], Loss: 0.3567\n",
            "Epoch [28/30], Step [200/500], Loss: 0.3516\n",
            "Epoch [28/30], Step [300/500], Loss: 0.4529\n",
            "Epoch [28/30], Step [400/500], Loss: 0.4021\n",
            "Epoch [28/30], Step [500/500], Loss: 0.4051\n",
            "Epoch [29/30], Step [100/500], Loss: 0.4963\n",
            "Epoch [29/30], Step [200/500], Loss: 0.256\n",
            "Epoch [29/30], Step [300/500], Loss: 0.5712\n",
            "Epoch [29/30], Step [400/500], Loss: 0.3489\n",
            "Epoch [29/30], Step [500/500], Loss: 0.3737\n",
            "Epoch [30/30], Step [100/500], Loss: 0.37\n",
            "Epoch [30/30], Step [200/500], Loss: 0.3459\n",
            "Epoch [30/30], Step [300/500], Loss: 0.5369\n",
            "Epoch [30/30], Step [400/500], Loss: 0.4551\n",
            "Epoch [30/30], Step [500/500], Loss: 0.5622\n",
            "\n",
            "Time of training: 75.87 minutes\n"
          ],
          "name": "stdout"
        }
      ]
    },
    {
      "cell_type": "markdown",
      "metadata": {
        "id": "BSGyLEw-DwYQ",
        "colab_type": "text"
      },
      "source": [
        "It is always interesting to see how fast the loss is changing its value. Let's check it :)"
      ]
    },
    {
      "cell_type": "code",
      "metadata": {
        "id": "2_Y7zAhy-taH",
        "colab_type": "code",
        "outputId": "c395dac5-7829-44b0-e12a-eea9813b3426",
        "colab": {
          "base_uri": "https://localhost:8080/",
          "height": 395
        }
      },
      "source": [
        "plt.figure(figsize=(13, 6))\n",
        "plt.plot(losses)\n",
        "plt.title(\"Losses\", fontsize=20)\n",
        "plt.show()"
      ],
      "execution_count": 12,
      "outputs": [
        {
          "output_type": "display_data",
          "data": {
            "image/png": "[encoded data removed]",
            "text/plain": [
              "<Figure size 936x432 with 1 Axes>"
            ]
          },
          "metadata": {
            "tags": []
          }
        }
      ]
    },
    {
      "cell_type": "markdown",
      "metadata": {
        "id": "6pLUmELMD2CX",
        "colab_type": "text"
      },
      "source": [
        "## Let's test it!"
      ]
    },
    {
      "cell_type": "code",
      "metadata": {
        "id": "xJmyG_AJQitE",
        "colab_type": "code",
        "outputId": "afde6579-ba27-4e76-a09e-f9ea022fcc62",
        "colab": {
          "base_uri": "https://localhost:8080/",
          "height": 35
        }
      },
      "source": [
        "validate_model(model, train_data)"
      ],
      "execution_count": 13,
      "outputs": [
        {
          "output_type": "stream",
          "text": [
            "Accuracy of the model on train data: 93.07%\n"
          ],
          "name": "stdout"
        }
      ]
    },
    {
      "cell_type": "code",
      "metadata": {
        "id": "XE_gYj-K-tUs",
        "colab_type": "code",
        "outputId": "520e417e-5b23-4bb2-fc3f-fe30d0265fbd",
        "colab": {
          "base_uri": "https://localhost:8080/",
          "height": 35
        }
      },
      "source": [
        "validate_model(model, test_data)"
      ],
      "execution_count": 17,
      "outputs": [
        {
          "output_type": "stream",
          "text": [
            "Accuracy of the model on test data: 78.98%\n"
          ],
          "name": "stdout"
        }
      ]
    },
    {
      "cell_type": "markdown",
      "metadata": {
        "id": "ePC8ZyuuD6hP",
        "colab_type": "text"
      },
      "source": [
        "#### So, accuracy is actually nice, cause difference between train and test datatsets accuracy is pretty small, i.e. model is not overfited. Now, let's try to predict class by image"
      ]
    },
    {
      "cell_type": "code",
      "metadata": {
        "id": "hi0lYGTXq6n1",
        "colab_type": "code",
        "colab": {}
      },
      "source": [
        "dataiter = iter(test_data)"
      ],
      "execution_count": 0,
      "outputs": []
    },
    {
      "cell_type": "code",
      "metadata": {
        "id": "uI1i3afW-tQn",
        "colab_type": "code",
        "outputId": "ba62e4c7-d253-4e1d-bf36-0497169505c7",
        "colab": {
          "base_uri": "https://localhost:8080/",
          "height": 180
        }
      },
      "source": [
        "images, labels = dataiter.next()\n",
        "imshow(torchvision.utils.make_grid(images[:5]))\n",
        "\n",
        "outputs = model(images)\n",
        "_, predicted = torch.max(outputs.data, 1)\n",
        "print(\"Actual classes:\", \" \".join('%5s' % classes[labels[j]] for j in range(5)))\n",
        "print(\"Predicted classes:\", \" \".join('%5s' % classes[predicted[j]] for j in range(5)))"
      ],
      "execution_count": 25,
      "outputs": [
        {
          "output_type": "stream",
          "text": [
            "Actual classes:   dog   car  ship horse   car\n",
            "Predicted classes:   dog plane  ship horse   car\n"
          ],
          "name": "stdout"
        },
        {
          "output_type": "display_data",
          "data": {
            "image/png": "[encoded data removed]",
            "text/plain": [
              "<Figure size 576x216 with 1 Axes>"
            ]
          },
          "metadata": {
            "tags": []
          }
        }
      ]
    },
    {
      "cell_type": "markdown",
      "metadata": {
        "id": "CNwEI08NRID4",
        "colab_type": "text"
      },
      "source": [
        "## After some tests, i can surely say that model performs excellent results.\n",
        "### The most common case is 4/5 correct answers!"
      ]
    },
    {
      "cell_type": "code",
      "metadata": {
        "id": "nFmD9MOeD7ij",
        "colab_type": "code",
        "colab": {}
      },
      "source": [
        " def save_model(path):\n",
        "    torch.save(model.state_dict(), path)\n",
        "    print(\"Model saved!\")"
      ],
      "execution_count": 0,
      "outputs": []
    }
  ]
}