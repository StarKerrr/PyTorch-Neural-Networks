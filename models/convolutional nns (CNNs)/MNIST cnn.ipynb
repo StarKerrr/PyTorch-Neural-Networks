{
  "nbformat": 4,
  "nbformat_minor": 0,
  "metadata": {
    "colab": {
      "name": "Convolutional Neural Networks (CNNs).ipynb",
      "version": "0.3.2",
      "provenance": [],
      "collapsed_sections": []
    },
    "kernelspec": {
      "name": "python3",
      "display_name": "Python 3"
    }
  },
  "cells": [
    {
      "cell_type": "code",
      "metadata": {
        "id": "97NN-ZQX-T6I",
        "colab_type": "code",
        "colab": {}
      },
      "source": [
        "import torch \n",
        "import torch.nn as nn\n",
        "import torch.nn.functional as F\n",
        "import torch.optim as optim\n",
        "from torch.autograd import Variable\n",
        "from torch.utils.data import DataLoader\n",
        "import torchvision\n",
        "import torchvision.transforms as transforms\n",
        "\n",
        "import numpy as np\n",
        "import matplotlib.pyplot as plt\n",
        "import os\n",
        "import time"
      ],
      "execution_count": 0,
      "outputs": []
    },
    {
      "cell_type": "code",
      "metadata": {
        "id": "7MKiva2g-sy-",
        "colab_type": "code",
        "colab": {}
      },
      "source": [
        "# Hyperparameters\n",
        "num_epochs = 10\n",
        "num_classes = 10\n",
        "batch_size = 100\n",
        "learning_rate = 1e-2"
      ],
      "execution_count": 0,
      "outputs": []
    },
    {
      "cell_type": "code",
      "metadata": {
        "id": "JUUQm6Vx-tCn",
        "colab_type": "code",
        "colab": {}
      },
      "source": [
        "def get_data(path, num_workers):\n",
        "  # CUFAR10 dataset\n",
        "  # Before using, you should download the dataset to your local repository. Specify 'download' parameter\n",
        "  # of train_data as True.\n",
        "  train_data = torchvision.datasets.CIFAR10(root=path, train=True, transform=transforms.ToTensor(), download=True)\n",
        "  test_data = torchvision.datasets.CIFAR10(root=path, train=False, transform=transforms.ToTensor())\n",
        "\n",
        "  train_loader = DataLoader(train_data, batch_size=batch_size, shuffle=True, num_workers=2)\n",
        "  test_loader = DataLoader(test_data, batch_size=batch_size, shuffle=False, num_workers=2)\n",
        "  return train_loader, test_loader\n",
        "\n",
        "# All classes of images in dataset\n",
        "classes = ['plane', 'car', 'bird', 'cat', 'deer', 'dog', 'frog', 'horse', 'ship', 'truck']"
      ],
      "execution_count": 0,
      "outputs": []
    },
    {
      "cell_type": "code",
      "metadata": {
        "id": "PFtnJYhS4cf2",
        "colab_type": "code",
        "outputId": "0f48e731-263b-42f6-990b-85f1aae12b0e",
        "colab": {
          "base_uri": "https://localhost:8080/",
          "height": 35
        }
      },
      "source": [
        "train_data, test_data = get_data(\"data\", 2)"
      ],
      "execution_count": 4,
      "outputs": [
        {
          "output_type": "stream",
          "text": [
            "Files already downloaded and verified\n"
          ],
          "name": "stdout"
        }
      ]
    },
    {
      "cell_type": "code",
      "metadata": {
        "id": "-mRuffuD-tId",
        "colab_type": "code",
        "colab": {}
      },
      "source": [
        "# Show the number of images equals to batch_size\n",
        "def imshow(img):\n",
        "    img = img / 2 + 0.25\n",
        "    npimg = img.numpy()\n",
        "    plt.figure(figsize=(8, 3))\n",
        "    plt.imshow(np.transpose(npimg, (1, 2, 0)))"
      ],
      "execution_count": 0,
      "outputs": []
    },
    {
      "cell_type": "code",
      "metadata": {
        "id": "RJ381xz8-tK-",
        "colab_type": "code",
        "outputId": "16bf7072-1014-48dd-963f-8992def70d78",
        "colab": {
          "base_uri": "https://localhost:8080/",
          "height": 163
        }
      },
      "source": [
        "# Checking out the dataset \n",
        "dataiter = iter(train_data)\n",
        "images, labels = dataiter.next()\n",
        "imshow(torchvision.utils.make_grid(images[:5]))\n",
        "print(\"  \".join('%5s' % classes[labels[j]] for j in range(5)))"
      ],
      "execution_count": 6,
      "outputs": [
        {
          "output_type": "stream",
          "text": [
            " deer  plane  truck   ship  horse\n"
          ],
          "name": "stdout"
        },
        {
          "output_type": "display_data",
          "data": {
            "image/png": "[encoded data removed]",
            "text/plain": [
              "<Figure size 576x216 with 1 Axes>"
            ]
          },
          "metadata": {
            "tags": []
          }
        }
      ]
    },
    {
      "cell_type": "code",
      "metadata": {
        "id": "5ge1gICA-tNO",
        "colab_type": "code",
        "colab": {}
      },
      "source": [
        "# Convolutional neural network (CNN), we will use two convolutional layers\n",
        "class CNN(nn.Module):\n",
        "    def __init__(self, num_classes=10):\n",
        "        super().__init__()\n",
        "        \n",
        "        # Convolutional and pooling layers\n",
        "        self.cl1 = self.create_layer_block(3, 30)\n",
        "        self.cl2 = self.create_layer_block(30, 30)\n",
        "        self.cl3 = self.create_layer_block(30, 30)\n",
        "        \n",
        "        # Dropout and fully connected layers\n",
        "        self.drop_out = nn.Dropout()\n",
        "        self.fc1 = nn.Linear(4 * 4 * 30, 250)\n",
        "        self.fc2 = nn.Linear(250, 250)\n",
        "        self.fc3 = nn.Linear(250, 250)\n",
        "        self.fc4 = nn.Linear(250, num_classes)\n",
        "        self.ls = nn.LogSoftmax(dim=1)\n",
        "    \n",
        "    # Creation of layer which consists of convolutional, batchnorming parts and ReLU function\n",
        "    def create_layer_block(self, in_features, out_features):\n",
        "        self.layer_block = nn.Sequential(\n",
        "            nn.Conv2d(in_features, out_features, kernel_size=5, stride=1, padding=2),\n",
        "            nn.BatchNorm2d(out_features),\n",
        "            nn.ReLU(),\n",
        "        )\n",
        "        return self.layer_block\n",
        "    \n",
        "    # Forward pass\n",
        "    def forward(self, x):\n",
        "        x = F.max_pool2d(self.cl1(x), 2, 2)\n",
        "        x = F.max_pool2d(self.cl2(x), 2, 2)\n",
        "        x = F.max_pool2d(self.cl3(x), 2, 2)\n",
        "        x = x.view(x.size(0), -1)\n",
        "        x = self.drop_out(x)\n",
        "        x = self.fc1(x)\n",
        "        x = self.fc2(x)\n",
        "        x = self.fc3(x)\n",
        "        x = self.fc4(x)\n",
        "        x = self.ls(x)\n",
        "        return x"
      ],
      "execution_count": 0,
      "outputs": []
    },
    {
      "cell_type": "code",
      "metadata": {
        "id": "cQX0XXmd-tR8",
        "colab_type": "code",
        "colab": {}
      },
      "source": [
        "model = CNN()"
      ],
      "execution_count": 0,
      "outputs": []
    },
    {
      "cell_type": "code",
      "metadata": {
        "id": "1r2t080n-tW1",
        "colab_type": "code",
        "colab": {}
      },
      "source": [
        "# Loss and optimizer\n",
        "criterion = nn.NLLLoss()\n",
        "optimizer = optim.Adam(model.parameters(), lr=learning_rate)\n",
        "losses = []\n",
        "\n",
        "# Train our model\n",
        "def train(model, epochs, learning_rate):\n",
        "    start = time.time()\n",
        "    total = len(train_data)\n",
        "    for epoch in range(epochs):\n",
        "        for i, (images, labels) in enumerate(train_data):\n",
        "            images, labels = Variable(images), Variable(labels)\n",
        "            \n",
        "            outputs = model(images) # Forward pass\n",
        "            loss = criterion(outputs, labels)\n",
        "            losses.append(loss.item())\n",
        "\n",
        "            optimizer.zero_grad() # Zero gradient value\n",
        "            loss.backward() # Backward pass\n",
        "            optimizer.step() # Update our weights\n",
        "            \n",
        "            # Visual information\n",
        "            if (i+1) % 100 == 0:\n",
        "                print (f\"Epoch [{epoch+1}/{epochs}], Step [{i+1}/{total}], Loss: {round(loss.item(), 4)}\")\n",
        "    all_time = round((time.time() - start) / 60, 2)\n",
        "    print(f\"\\nTime of training: {all_time} minutes\")"
      ],
      "execution_count": 0,
      "outputs": []
    },
    {
      "cell_type": "code",
      "metadata": {
        "id": "6SvdZoRz-tef",
        "colab_type": "code",
        "colab": {}
      },
      "source": [
        "# Test our model\n",
        "def validate_model(model, data):\n",
        "    model.eval()\n",
        "    with torch.no_grad():\n",
        "        correct = 0\n",
        "        total = 0\n",
        "        for images, labels in data:\n",
        "            outputs = model(images)\n",
        "            _, predicted = torch.max(outputs.data, 1)\n",
        "            total += labels.size(0)\n",
        "            correct += (predicted == labels).sum().item()\n",
        "        \n",
        "        if len(data) > 100:\n",
        "          print(f\"Accuracy of the model on train data: {round(correct / total * 100, 2)}%\")\n",
        "        elif len(data) == 100:\n",
        "          print(f\"Accuracy of the model on test data: {round(correct / total * 100, 2)}%\")"
      ],
      "execution_count": 0,
      "outputs": []
    },
    {
      "cell_type": "markdown",
      "metadata": {
        "id": "JdHZjqgxDjY7",
        "colab_type": "text"
      },
      "source": [
        "## Training"
      ]
    },
    {
      "cell_type": "code",
      "metadata": {
        "id": "OOtyb9lg-tbX",
        "colab_type": "code",
        "outputId": "80414578-1dc0-4d33-cd9b-574e425dc50e",
        "colab": {
          "base_uri": "https://localhost:8080/",
          "height": 919
        }
      },
      "source": [
        "train(model, num_epochs, learning_rate)"
      ],
      "execution_count": 17,
      "outputs": [
        {
          "output_type": "stream",
          "text": [
            "Epoch [1/10], Step [100/500], Loss: 1.1267\n",
            "Epoch [1/10], Step [200/500], Loss: 0.8319\n",
            "Epoch [1/10], Step [300/500], Loss: 1.0329\n",
            "Epoch [1/10], Step [400/500], Loss: 0.9886\n",
            "Epoch [1/10], Step [500/500], Loss: 0.8368\n",
            "Epoch [2/10], Step [100/500], Loss: 1.0185\n",
            "Epoch [2/10], Step [200/500], Loss: 0.8764\n",
            "Epoch [2/10], Step [300/500], Loss: 0.7275\n",
            "Epoch [2/10], Step [400/500], Loss: 0.8308\n",
            "Epoch [2/10], Step [500/500], Loss: 0.6928\n",
            "Epoch [3/10], Step [100/500], Loss: 0.9193\n",
            "Epoch [3/10], Step [200/500], Loss: 1.1586\n",
            "Epoch [3/10], Step [300/500], Loss: 0.7819\n",
            "Epoch [3/10], Step [400/500], Loss: 1.0121\n",
            "Epoch [3/10], Step [500/500], Loss: 0.8344\n",
            "Epoch [4/10], Step [100/500], Loss: 0.6732\n",
            "Epoch [4/10], Step [200/500], Loss: 0.7222\n",
            "Epoch [4/10], Step [300/500], Loss: 0.973\n",
            "Epoch [4/10], Step [400/500], Loss: 1.1111\n",
            "Epoch [4/10], Step [500/500], Loss: 0.6892\n",
            "Epoch [5/10], Step [100/500], Loss: 0.7206\n",
            "Epoch [5/10], Step [200/500], Loss: 0.8046\n",
            "Epoch [5/10], Step [300/500], Loss: 0.9201\n",
            "Epoch [5/10], Step [400/500], Loss: 0.9939\n",
            "Epoch [5/10], Step [500/500], Loss: 0.6024\n",
            "Epoch [6/10], Step [100/500], Loss: 0.6965\n",
            "Epoch [6/10], Step [200/500], Loss: 0.7105\n",
            "Epoch [6/10], Step [300/500], Loss: 0.7757\n",
            "Epoch [6/10], Step [400/500], Loss: 0.6551\n",
            "Epoch [6/10], Step [500/500], Loss: 0.8489\n",
            "Epoch [7/10], Step [100/500], Loss: 0.9098\n",
            "Epoch [7/10], Step [200/500], Loss: 0.9737\n",
            "Epoch [7/10], Step [300/500], Loss: 0.73\n",
            "Epoch [7/10], Step [400/500], Loss: 0.6319\n",
            "Epoch [7/10], Step [500/500], Loss: 0.6193\n",
            "Epoch [8/10], Step [100/500], Loss: 0.7516\n",
            "Epoch [8/10], Step [200/500], Loss: 0.7766\n",
            "Epoch [8/10], Step [300/500], Loss: 0.7065\n",
            "Epoch [8/10], Step [400/500], Loss: 0.6058\n",
            "Epoch [8/10], Step [500/500], Loss: 0.9183\n",
            "Epoch [9/10], Step [100/500], Loss: 0.7067\n",
            "Epoch [9/10], Step [200/500], Loss: 0.8485\n",
            "Epoch [9/10], Step [300/500], Loss: 1.026\n",
            "Epoch [9/10], Step [400/500], Loss: 0.8818\n",
            "Epoch [9/10], Step [500/500], Loss: 0.7239\n",
            "Epoch [10/10], Step [100/500], Loss: 0.9561\n",
            "Epoch [10/10], Step [200/500], Loss: 0.5653\n",
            "Epoch [10/10], Step [300/500], Loss: 0.5655\n",
            "Epoch [10/10], Step [400/500], Loss: 0.6254\n",
            "Epoch [10/10], Step [500/500], Loss: 0.696\n",
            "\n",
            "Time of training: 20.01 minutes\n"
          ],
          "name": "stdout"
        }
      ]
    },
    {
      "cell_type": "markdown",
      "metadata": {
        "id": "BSGyLEw-DwYQ",
        "colab_type": "text"
      },
      "source": [
        "It is always interesting to see how fast the loss is changing its value. Let's check it :)"
      ]
    },
    {
      "cell_type": "code",
      "metadata": {
        "id": "2_Y7zAhy-taH",
        "colab_type": "code",
        "outputId": "f0823df4-2916-4342-bef7-bd10e7837856",
        "colab": {
          "base_uri": "https://localhost:8080/",
          "height": 395
        }
      },
      "source": [
        "plt.figure(figsize=(13, 6))\n",
        "plt.plot(losses)\n",
        "plt.title(\"Losses\", fontsize=20)\n",
        "plt.show()"
      ],
      "execution_count": 18,
      "outputs": [
        {
          "output_type": "display_data",
          "data": {
            "image/png": "[encoded data removed]",
            "text/plain": [
              "<Figure size 936x432 with 1 Axes>"
            ]
          },
          "metadata": {
            "tags": []
          }
        }
      ]
    },
    {
      "cell_type": "markdown",
      "metadata": {
        "id": "6pLUmELMD2CX",
        "colab_type": "text"
      },
      "source": [
        "## Let's test it!"
      ]
    },
    {
      "cell_type": "code",
      "metadata": {
        "id": "xJmyG_AJQitE",
        "colab_type": "code",
        "outputId": "746593f2-e29d-4864-8317-92166be935b9",
        "colab": {
          "base_uri": "https://localhost:8080/",
          "height": 35
        }
      },
      "source": [
        "validate_model(model, train_data)"
      ],
      "execution_count": 19,
      "outputs": [
        {
          "output_type": "stream",
          "text": [
            "Accuracy of the model on train data: 77.9%\n"
          ],
          "name": "stdout"
        }
      ]
    },
    {
      "cell_type": "code",
      "metadata": {
        "id": "XE_gYj-K-tUs",
        "colab_type": "code",
        "outputId": "3e5f0eff-0dc2-40f5-9f2b-0090be86960f",
        "colab": {
          "base_uri": "https://localhost:8080/",
          "height": 35
        }
      },
      "source": [
        "validate_model(model, test_data)"
      ],
      "execution_count": 20,
      "outputs": [
        {
          "output_type": "stream",
          "text": [
            "Accuracy of the model on test data: 71.15%\n"
          ],
          "name": "stdout"
        }
      ]
    },
    {
      "cell_type": "markdown",
      "metadata": {
        "id": "ePC8ZyuuD6hP",
        "colab_type": "text"
      },
      "source": [
        "#### So, accuracy is actually nice, cause difference between train and test datatsets accuracy is pretty small, i.e. model is not overfited. Now, let's try to predict class by image"
      ]
    },
    {
      "cell_type": "code",
      "metadata": {
        "id": "uI1i3afW-tQn",
        "colab_type": "code",
        "outputId": "a2668a51-e6b3-4412-cb02-cfe589790a45",
        "colab": {
          "base_uri": "https://localhost:8080/",
          "height": 180
        }
      },
      "source": [
        "# dataiter = iter(test_data)\n",
        "images, labels = dataiter.next()\n",
        "imshow(torchvision.utils.make_grid(images[:5]))\n",
        "\n",
        "outputs = model(images)\n",
        "_, predicted = torch.max(outputs.data, 1)\n",
        "print(\"Actual classes:\", \" \".join('%5s' % classes[labels[j]] for j in range(5)))\n",
        "print(\"Predicted classes:\", \" \".join('%5s' % classes[predicted[j]] for j in range(5)))"
      ],
      "execution_count": 30,
      "outputs": [
        {
          "output_type": "stream",
          "text": [
            "Actual classes: horse  bird  deer  ship horse\n",
            "Predicted classes: horse plane  deer  ship horse\n"
          ],
          "name": "stdout"
        },
        {
          "output_type": "display_data",
          "data": {
            "image/png": "[encoded data removed]",
            "text/plain": [
              "<Figure size 576x216 with 1 Axes>"
            ]
          },
          "metadata": {
            "tags": []
          }
        }
      ]
    },
    {
      "cell_type": "markdown",
      "metadata": {
        "id": "CNwEI08NRID4",
        "colab_type": "text"
      },
      "source": [
        "## After some tests, i can surely say that model performs excellent results.\n",
        "### The most common case is 4/5 correct answers!"
      ]
    },
    {
      "cell_type": "code",
      "metadata": {
        "id": "nFmD9MOeD7ij",
        "colab_type": "code",
        "colab": {}
      },
      "source": [
        " def save_model(path):\n",
        "    torch.save(model.state_dict(), path)\n",
        "    print(\"Model saved!\")"
      ],
      "execution_count": 0,
      "outputs": []
    }
  ]
}