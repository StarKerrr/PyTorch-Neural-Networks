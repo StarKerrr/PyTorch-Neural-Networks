{
 "cells": [
  {
   "cell_type": "markdown",
   "metadata": {},
   "source": [
    "#### It's assumed that you are already familiar with concepts such as linear algebra, in particular with matrices and vectors. We will use python library \"Numpy\" and also internal functions of PyTorch for work with these basic objects of linear algebra."
   ]
  },
  {
   "cell_type": "code",
   "execution_count": 2,
   "metadata": {},
   "outputs": [],
   "source": [
    "import torch\n",
    "import torch.nn as nn\n",
    "\n",
    "import numpy as np\n",
    "from sklearn.metrics import r2_score, explained_variance_score\n",
    "import matplotlib.pyplot as plt"
   ]
  },
  {
   "cell_type": "code",
   "execution_count": 3,
   "metadata": {},
   "outputs": [],
   "source": [
    "# torch.nn.Module allows us to build custom classes\n",
    "class LR(nn.Module):\n",
    "    def __init__(self, in_features, out_features, in_data, target_data):\n",
    "        # in_features - the number of inputs, out_features - the number of outputs of our network\n",
    "        super().__init__()\n",
    "        self.X = in_data\n",
    "        self.y = target_data\n",
    "        self.linear = nn.Linear(in_features, out_features) # define a linear model\n",
    "    \n",
    "    def get_params(self):\n",
    "        # Function parameters() returns values of weigth and bias\n",
    "        # In our case, function will return torch.tensor([[weigt]]) and torch.tensor([bias])\n",
    "        [w, b] = self.parameters()\n",
    "        return w[0][0].item(), b[0].item()\n",
    "    \n",
    "    def build_plot(self):\n",
    "        weight, bias = self.get_params()\n",
    "        x1 = np.array([-35, 35])\n",
    "        y1 = weight*x1 + bias\n",
    "        plt.plot(x1, y1, 'r', label=\"Fitted line\")\n",
    "        plt.scatter(self.X, self.y, label=\"Original data\")\n",
    "        plt.legend()\n",
    "        plt.show()\n",
    "        \n",
    "    def forward(self):\n",
    "        y_pred = self.linear(self.X)\n",
    "        return y_pred"
   ]
  },
  {
   "cell_type": "code",
   "execution_count": 4,
   "metadata": {},
   "outputs": [],
   "source": [
    "X = torch.randn(100, 1) * 15\n",
    "y = X + 10*torch.randn(100, 1)"
   ]
  },
  {
   "cell_type": "code",
   "execution_count": 5,
   "metadata": {},
   "outputs": [
    {
     "data": {
      "image/png": "[encoded data removed]",
      "text/plain": [
       "<Figure size 576x360 with 1 Axes>"
      ]
     },
     "metadata": {
      "needs_background": "light"
     },
     "output_type": "display_data"
    }
   ],
   "source": [
    "plt.figure(figsize=(8, 5))\n",
    "plt.plot(X.numpy(), y.numpy(), 'o');"
   ]
  },
  {
   "cell_type": "code",
   "execution_count": 6,
   "metadata": {},
   "outputs": [],
   "source": [
    "linear_model = LR(1, 1, X, y)"
   ]
  },
  {
   "cell_type": "markdown",
   "metadata": {},
   "source": [
    "### Model without training"
   ]
  },
  {
   "cell_type": "code",
   "execution_count": 7,
   "metadata": {
    "scrolled": true
   },
   "outputs": [
    {
     "data": {
      "image/png": "[encoded data removed]",
      "text/plain": [
       "<Figure size 432x288 with 1 Axes>"
      ]
     },
     "metadata": {
      "needs_background": "light"
     },
     "output_type": "display_data"
    },
    {
     "name": "stdout",
     "output_type": "stream",
     "text": [
      "Weight = -0.4151899814605713, \n",
      "bias = -0.8122251033782959\n"
     ]
    }
   ],
   "source": [
    "# Building plot\n",
    "linear_model.build_plot()\n",
    " \n",
    "w, b = linear_model.get_params()\n",
    "print(f\"Weight = {w}, \\nbias = {b}\")"
   ]
  },
  {
   "cell_type": "code",
   "execution_count": 8,
   "metadata": {},
   "outputs": [],
   "source": [
    "# Set Mean Squared Error as a loss function\n",
    "criterion = nn.MSELoss()\n",
    "\n",
    "# Set stochastic gradient descent\n",
    "# More: https://en.wikipedia.org/wiki/Stochastic_gradient_descent\n",
    "optimiser = torch.optim.SGD(linear_model.parameters(), lr=0.001)\n",
    "epoches = 100"
   ]
  },
  {
   "cell_type": "markdown",
   "metadata": {},
   "source": [
    "### Training"
   ]
  },
  {
   "cell_type": "code",
   "execution_count": 9,
   "metadata": {},
   "outputs": [
    {
     "name": "stdout",
     "output_type": "stream",
     "text": [
      "0/100, loss = 626.2774047851562\n",
      "5/100, loss = 109.61009979248047\n",
      "10/100, loss = 109.39925384521484\n",
      "15/100, loss = 109.39911651611328\n",
      "20/100, loss = 109.39906311035156\n",
      "25/100, loss = 109.39901733398438\n",
      "30/100, loss = 109.39896392822266\n",
      "35/100, loss = 109.39891815185547\n",
      "40/100, loss = 109.39886474609375\n",
      "45/100, loss = 109.39881896972656\n",
      "50/100, loss = 109.39877319335938\n",
      "55/100, loss = 109.39873504638672\n",
      "60/100, loss = 109.39868927001953\n",
      "65/100, loss = 109.39864349365234\n",
      "70/100, loss = 109.39859771728516\n",
      "75/100, loss = 109.3985595703125\n",
      "80/100, loss = 109.39852142333984\n",
      "85/100, loss = 109.39848327636719\n",
      "90/100, loss = 109.3984375\n",
      "95/100, loss = 109.39840698242188\n"
     ]
    }
   ],
   "source": [
    "for epoch in range(epoches):\n",
    "    y_pred = linear_model.forward()\n",
    "    loss = criterion(y_pred, linear_model.y)\n",
    "    \n",
    "    # Zero value of the gradient descent that it doesn't accumulate\n",
    "    optimiser.zero_grad()\n",
    "    \n",
    "    # Run an algorithm of backpropagation\n",
    "    loss.backward()\n",
    "    \n",
    "    # Update our weights\n",
    "    optimiser.step()\n",
    "    \n",
    "    if epoch % 5 == 0:\n",
    "        print(f\"{epoch}/{epoches}, loss = {loss.item()}\")"
   ]
  },
  {
   "cell_type": "markdown",
   "metadata": {},
   "source": [
    "### Trained model"
   ]
  },
  {
   "cell_type": "code",
   "execution_count": 10,
   "metadata": {},
   "outputs": [
    {
     "data": {
      "image/png": "[encoded data removed]",
      "text/plain": [
       "<Figure size 432x288 with 1 Axes>"
      ]
     },
     "metadata": {
      "needs_background": "light"
     },
     "output_type": "display_data"
    },
    {
     "name": "stdout",
     "output_type": "stream",
     "text": [
      "Weight = 0.9661353826522827, \n",
      "bias = -0.8038343191146851\n"
     ]
    }
   ],
   "source": [
    "linear_model.build_plot()\n",
    "\n",
    "w, b = linear_model.get_params()\n",
    "print(f\"Weight = {w}, \\nbias = {b}\")"
   ]
  },
  {
   "cell_type": "markdown",
   "metadata": {},
   "source": [
    "### Some characteristics of model"
   ]
  },
  {
   "cell_type": "code",
   "execution_count": 11,
   "metadata": {},
   "outputs": [],
   "source": [
    "y_pred = linear_model.forward().detach().numpy()"
   ]
  },
  {
   "cell_type": "code",
   "execution_count": 12,
   "metadata": {},
   "outputs": [],
   "source": [
    "r2_score = r2_score(y_pred, y.numpy())\n",
    "explained_var = explained_variance_score(y_pred, y.numpy())"
   ]
  },
  {
   "cell_type": "code",
   "execution_count": 13,
   "metadata": {},
   "outputs": [
    {
     "name": "stdout",
     "output_type": "stream",
     "text": [
      "Coefficient of determination = 0.5673\n",
      "Explained variation = 0.5673\n"
     ]
    }
   ],
   "source": [
    "print(f\"Coefficient of determination = {round(r2_score, 4)}\")\n",
    "print(f\"Explained variation = {round(explained_var, 4)}\")"
   ]
  }
 ],
 "metadata": {
  "kernelspec": {
   "display_name": "Python 3",
   "language": "python",
   "name": "python3"
  },
  "language_info": {
   "codemirror_mode": {
    "name": "ipython",
    "version": 3
   },
   "file_extension": ".py",
   "mimetype": "text/x-python",
   "name": "python",
   "nbconvert_exporter": "python",
   "pygments_lexer": "ipython3",
   "version": "3.7.3"
  }
 },
 "nbformat": 4,
 "nbformat_minor": 2
}
